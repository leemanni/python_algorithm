{
 "cells": [
  {
   "cell_type": "code",
   "execution_count": 5,
   "id": "8f9f532d",
   "metadata": {},
   "outputs": [],
   "source": [
    "def solution(x, n):\n",
    "    answer = []\n",
    "    for i in range(n):\n",
    "        answer.append(x * (i+1))\n",
    "    return answer"
   ]
  },
  {
   "cell_type": "code",
   "execution_count": 6,
   "id": "8ab3c7a2",
   "metadata": {},
   "outputs": [
    {
     "data": {
      "text/plain": [
       "[2, 4, 6, 8, 10]"
      ]
     },
     "execution_count": 6,
     "metadata": {},
     "output_type": "execute_result"
    }
   ],
   "source": [
    "solution(2, 5)"
   ]
  },
  {
   "cell_type": "code",
   "execution_count": null,
   "id": "b3d465ff",
   "metadata": {},
   "outputs": [],
   "source": []
  }
 ],
 "metadata": {
  "kernelspec": {
   "display_name": "Python 3",
   "language": "python",
   "name": "python3"
  },
  "language_info": {
   "codemirror_mode": {
    "name": "ipython",
    "version": 3
   },
   "file_extension": ".py",
   "mimetype": "text/x-python",
   "name": "python",
   "nbconvert_exporter": "python",
   "pygments_lexer": "ipython3",
   "version": "3.6.8"
  }
 },
 "nbformat": 4,
 "nbformat_minor": 5
}
